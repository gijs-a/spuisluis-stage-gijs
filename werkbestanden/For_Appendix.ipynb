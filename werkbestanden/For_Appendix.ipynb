{
 "cells": [
  {
   "cell_type": "code",
   "execution_count": 1,
   "id": "2f397bef-16be-4c97-a438-3c77e230a2d1",
   "metadata": {},
   "outputs": [],
   "source": [
    "import numpy as np\n",
    "import scipy.stats\n",
    "from scipy.optimize import fsolve, root, curve_fit\n",
    "import csv\n",
    "import pandas as pd\n",
    "\n",
    "def loadcsvfile(filename, path='data/', delimiter=';'):\n",
    "    \"\"\"\n",
    "    Function to read the data from an excel file (.xlsx);\n",
    "    Converts to and saves as .csv file;\n",
    "    Loads the data as pandaas DataFrame.\n",
    "    \"\"\"\n",
    "    exceldata = pd.read_excel(path+filename)\n",
    "    exceldata.to_csv(path+'csv/'+filename[:-5]+'.csv', sep=delimiter, index=None, header=True)\n",
    "    csvdata = pd.read_csv(path+'csv/'+filename[:-5]+'.csv', delimiter=delimiter)\n",
    "    csvdata = csvdata.iloc[1:]\n",
    "    csvdata.index -= 1\n",
    "    for key in csvdata:\n",
    "        if key != 'experiment':\n",
    "            csvdata[key] = csvdata[key].astype('float')\n",
    "    return csvdata\n",
    "\n",
    "def transform(Gy, G, hL, P):\n",
    "    \"\"\"\n",
    "    Coordinate transformation as explained in Fan (2008). Should be used only if P<hL.\n",
    "    \"\"\"\n",
    "    return Gy + 2*G*(hL-P)\n",
    "\n",
    "def func(x, a):\n",
    "    \"\"\"\n",
    "    Function for linear fit with fixed value of b.\n",
    "    \"\"\"\n",
    "    return a - b*x\n",
    "\n",
    "def linFit(x, y):\n",
    "    \"\"\"\n",
    "    Linear fit through data.\n",
    "    Returns:\n",
    "    a: intercept\n",
    "    b: slope\n",
    "    r_value**2: R-squared\n",
    "    p_value: P-value\n",
    "    std_err: standard error\n",
    "    \"\"\"\n",
    "    b, a, r_value, p_value, std_err = scipy.stats.linregress(x, y)\n",
    "    return a, b, r_value**2, p_value, std_err\n",
    "\n",
    "def fixedbFit(func, x, y):\n",
    "    \"\"\"\n",
    "    Linear fit through data with a fixed value for the slope (b).\n",
    "    Returns:\n",
    "    a: intercept \n",
    "    r_squared: = R-squared\n",
    "    \"\"\"\n",
    "    a = curve_fit(func, x, y)[0][0]\n",
    "    residuals = y - func(x, *[a])\n",
    "    ss_res = np.sum(residuals**2)\n",
    "    ss_tot = np.sum((y-np.mean(y))**2)\n",
    "    r_squared = 1 - (ss_res / ss_tot)\n",
    "    return a, r_squared\n",
    "\n",
    "#constants\n",
    "g = 9.81"
   ]
  },
  {
   "cell_type": "code",
   "execution_count": 2,
   "id": "3dac29d6-3cba-4797-87da-46b633b118c0",
   "metadata": {},
   "outputs": [],
   "source": [
    "# loading Noordland experiments (M1204) as NL1204\n",
    "NL1204 = loadcsvfile('Noordland_M1204.xlsx')\n",
    "NL1204['h0'] = NL1204.am\n",
    "# Selecting the reference data 1-47\n",
    "sel = np.arange(47)\n",
    "NL1204ref = NL1204.iloc[sel]\n",
    "\n",
    "#selecting the datasets\n",
    "NL1204D3Q1 = NL1204ref[(NL1204ref.Q==1e-3) & (NL1204ref.D==3.1e-2)]\n",
    "NL1204D3Q2 = NL1204ref[(NL1204ref.Q==2e-3) & (NL1204ref.D==3.1e-2)]\n",
    "NL1204D3Q3 = NL1204ref[(NL1204ref.Q==3e-3) & (NL1204ref.D==3.1e-2)]\n",
    "NL1204D3Q4 = NL1204ref[(NL1204ref.Q==4e-3) & (NL1204ref.D==3.1e-2)]\n",
    "NL1204D3Q5 = NL1204ref[(NL1204ref.Q==5e-3) & (NL1204ref.D==3.1e-2)]\n",
    "NL1204D3Q6 = NL1204ref[(NL1204ref.Q==6e-3) & (NL1204ref.D==3.1e-2)]\n",
    "NL1204D3Q7 = NL1204ref[(NL1204ref.Q==7e-3) & (NL1204ref.D==3.1e-2)]\n",
    "NL1204D3Q8 = NL1204ref[(NL1204ref.Q==8e-3) & (NL1204ref.D==3.1e-2)]\n",
    "\n",
    "NL1204D6Q1 = NL1204ref[(NL1204ref.Q==1e-3) & (NL1204ref.D==6.1e-2)]\n",
    "NL1204D6Q2 = NL1204ref[(NL1204ref.Q==2e-3) & (NL1204ref.D==6.1e-2)]\n",
    "NL1204D6Q3 = NL1204ref[(NL1204ref.Q==3e-3) & (NL1204ref.D==6.1e-2) & (~np.isnan(NL1204ref.am))]\n",
    "NL1204D6Q5 = NL1204ref[(NL1204ref.Q==5e-3) & (NL1204ref.D==6.1e-2)]\n",
    "\n",
    "reference_data = [NL1204D3Q1,NL1204D3Q3,NL1204D3Q5,NL1204D3Q7,\n",
    "                  NL1204D6Q1,NL1204D6Q3,NL1204D6Q5]\n",
    "refcol = np.array(['r', 'g', 'b', 'c', 'm', 'y', 'k'])"
   ]
  },
  {
   "cell_type": "code",
   "execution_count": 3,
   "id": "949ffdac-2cb3-4ebc-adc1-1c97e86e1c0e",
   "metadata": {},
   "outputs": [],
   "source": [
    "#empty dataframe to fill in coefficient a and other values\n",
    "coeffa = pd.DataFrame({'P':np.zeros(len(reference_data)),\n",
    "                       'hL':np.zeros(len(reference_data)),\n",
    "                       'a':np.zeros(len(reference_data)),\n",
    "                       'b':np.zeros(len(reference_data))})\n",
    "\n",
    "K = 0.55\n",
    "b = 1/(2*K)\n",
    "\n",
    "###Creating linear fits through reference data sets\n",
    "i = 0 #counter\n",
    "for NL1204sel in reference_data: #NL1204sel is selected data set\n",
    "    lam0sel = np.where(NL1204sel.lam!=0)[0] #don't include data points where lam=0 in the fit\n",
    "    P = NL1204sel.iloc[0].D/2\n",
    "    G = pow(NL1204sel.rhofrac*9.81,1/3)/pow(NL1204sel.q,2/3)\n",
    "    y = NL1204sel.D/2 - NL1204sel.h0\n",
    "    Gy = G*y\n",
    "    c0c2 = 1 - NL1204sel.lam\n",
    "\n",
    "    #fit keeping b fixed\n",
    "    a, rsq = fixedbFit(func, Gy.iloc[lam0sel], c0c2.iloc[lam0sel])\n",
    "    hL = 1/(2*np.mean(G)*b)\n",
    "\n",
    "    #linear fit through datapoints\n",
    "    al, bl, rsql, pl, stdl = linFit(Gy.iloc[lam0sel], c0c2.iloc[lam0sel])\n",
    "    bl = abs(bl)\n",
    "    \n",
    "    coeffa.P[i] = P\n",
    "    coeffa.hL[i] = hL\n",
    "    coeffa.a[i] = a\n",
    "    coeffa.b[i] = b\n",
    "    \n",
    "    #coordinate transform if P<hL\n",
    "    if P<hL:\n",
    "        Gyp = transform(Gy, G, hL, P)\n",
    "        ap = curve_fit(func, Gyp.iloc[lam0sel], c0c2.iloc[lam0sel])[0][0]\n",
    "        coeffa.a[i] = ap\n",
    "        coeffa.b[i] = b\n",
    "    i += 1\n",
    "\n",
    "###Constructiong relationship coefficient a with P/hL\n",
    "xfit = np.linspace(-20,20,1000) #x-axis is P/hL-1\n",
    "intercept, slope, r_squared, p_value, std_err = linFit(coeffa.P/coeffa.hL-1, coeffa.a)\n",
    "afit = slope*xfit+intercept\n",
    "\n",
    "###Comparing observed values to computed values\n",
    "c0c2comp_all = np.array([]) #empty array to save all computed values of c0/c2\n",
    "c0c2obs_all = np.array([]) #... observed ...\n",
    "\n",
    "i = 0\n",
    "for NL1204sel in reference_data:\n",
    "    c0c2obs = 1 - NL1204sel.lam\n",
    "    G = pow(NL1204sel.rhofrac*9.81/NL1204sel.q**2,1/3)\n",
    "    P = NL1204sel.D/2\n",
    "    y = P - NL1204sel.h0\n",
    "\n",
    "    hL = K/G\n",
    "    acomp = np.interp(P/hL-1,xfit,afit) #computed value of coefficient a from relationship with P/hL\n",
    "    c0c2comp = acomp - b*G*y\n",
    "    ## if P<hL, the value of a from the graph is for y', so transformation back to y is needed:\n",
    "    c0c2comp[P<=hL] = acomp[P<=hL] - b*G[P<=hL]*(y[P<=hL] + 2*(hL[P<=hL]-P[P<=hL]))\n",
    "    \n",
    "    ## forcing c0/c2 to 0 or 1 when the computed value is <0 or >1, respectively:\n",
    "    c0c2comp[c0c2comp<0] = 0\n",
    "    c0c2comp[c0c2comp>1] = 1\n",
    "    \n",
    "    c0c2obs_all = np.append(c0c2obs_all, c0c2obs[c0c2comp<1])\n",
    "    c0c2comp_all = np.append(c0c2comp_all, c0c2comp[c0c2comp<1])\n",
    "    i+=1"
   ]
  },
  {
   "cell_type": "code",
   "execution_count": null,
   "id": "6d2b6c52-184a-4e2e-b249-6528d6673b2d",
   "metadata": {},
   "outputs": [],
   "source": []
  },
  {
   "cell_type": "code",
   "execution_count": null,
   "id": "259f528e-4456-471c-a8d8-0bd61431984e",
   "metadata": {},
   "outputs": [],
   "source": []
  },
  {
   "cell_type": "code",
   "execution_count": null,
   "id": "15304bce-53b4-44ac-b587-de759c52b49e",
   "metadata": {},
   "outputs": [],
   "source": []
  },
  {
   "cell_type": "code",
   "execution_count": null,
   "id": "31f94455-1a68-44ef-af2a-a965fbeda8e1",
   "metadata": {},
   "outputs": [],
   "source": []
  },
  {
   "cell_type": "code",
   "execution_count": 5,
   "id": "90bd1b48-0bad-422d-98bd-48cfb3ca1447",
   "metadata": {},
   "outputs": [
    {
     "data": {
      "text/plain": [
       "[<matplotlib.lines.Line2D at 0x7f651ff852b0>]"
      ]
     },
     "execution_count": 5,
     "metadata": {},
     "output_type": "execute_result"
    },
    {
     "data": {
      "image/png": "[encoded data removed]",
      "text/plain": [
       "<Figure size 432x288 with 1 Axes>"
      ]
     },
     "metadata": {
      "needs_background": "light"
     },
     "output_type": "display_data"
    }
   ],
   "source": [
    "%matplotlib inline\n",
    "import matplotlib.pyplot as plt\n",
    "plt.plot(c0c2obs_all, c0c2comp_all, 'o')"
   ]
  },
  {
   "cell_type": "code",
   "execution_count": null,
   "id": "eb9afe02-0e8c-40b5-9a36-af89effb3322",
   "metadata": {},
   "outputs": [],
   "source": []
  },
  {
   "cell_type": "code",
   "execution_count": null,
   "id": "b6893b9f-0ee9-41c8-b7f6-ce74b508ae65",
   "metadata": {},
   "outputs": [],
   "source": []
  },
  {
   "cell_type": "code",
   "execution_count": null,
   "id": "e6159cce-86e8-444a-9810-1d9eaa802ae0",
   "metadata": {},
   "outputs": [],
   "source": []
  },
  {
   "cell_type": "code",
   "execution_count": null,
   "id": "f96814d3-012d-4ecd-af11-0aa7b4998a2d",
   "metadata": {},
   "outputs": [],
   "source": []
  },
  {
   "cell_type": "code",
   "execution_count": 73,
   "id": "382521ef-2f12-4f97-ab29-2bbbc637bd69",
   "metadata": {},
   "outputs": [
    {
     "data": {
      "image/png": "[encoded data removed]",
      "text/plain": [
       "<Figure size 432x288 with 1 Axes>"
      ]
     },
     "metadata": {
      "needs_background": "light"
     },
     "output_type": "display_data"
    }
   ],
   "source": [
    "x = np.array([.0,.1,.2,.3,.4,.5,.6,.7,.8,.9,1])\n",
    "y = np.array([.0,.1,.2,.3,.4,.5,.6,.7,.8,.9,1])\n",
    "\n",
    "plt.plot(x,y,'o')\n",
    "plt.gca().axline([1,1],slope=1, color='k')\n",
    "plt.gca().axline([1,1.1],slope=1, color='k', linestyle='--')\n",
    "plt.gca().axline([1.1,1],slope=1, color='k', linestyle='--')\n",
    "plt.grid()"
   ]
  },
  {
   "cell_type": "code",
   "execution_count": null,
   "id": "2354db57-94cc-44a0-82f8-e3b440d16d43",
   "metadata": {},
   "outputs": [],
   "source": []
  },
  {
   "cell_type": "code",
   "execution_count": null,
   "id": "34c38066-046f-461a-81af-cf4d898fb657",
   "metadata": {},
   "outputs": [],
   "source": []
  },
  {
   "cell_type": "code",
   "execution_count": null,
   "id": "48a4644b-a1e1-44b9-bdfe-9e3bc8e65a48",
   "metadata": {},
   "outputs": [],
   "source": []
  },
  {
   "cell_type": "code",
   "execution_count": null,
   "id": "a9623816-f3d5-4ad8-881f-5f86a4616a2b",
   "metadata": {},
   "outputs": [],
   "source": []
  }
 ],
 "metadata": {
  "kernelspec": {
   "display_name": "Python 3",
   "language": "python",
   "name": "python3"
  },
  "language_info": {
   "codemirror_mode": {
    "name": "ipython",
    "version": 3
   },
   "file_extension": ".py",
   "mimetype": "text/x-python",
   "name": "python",
   "nbconvert_exporter": "python",
   "pygments_lexer": "ipython3",
   "version": "3.8.5"
  }
 },
 "nbformat": 4,
 "nbformat_minor": 5
}
