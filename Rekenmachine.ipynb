{
 "cells": [
  {
   "cell_type": "markdown",
   "id": "271e34ef-6ab4-4241-a585-e229c5d69419",
   "metadata": {},
   "source": [
    "# Dit notebook gebruik ik om dingen te proberen of snel uit te rekenen"
   ]
  },
  {
   "cell_type": "code",
   "execution_count": 2,
   "id": "d17ec1fc-ec96-41db-b4c0-4e48d05ed95b",
   "metadata": {},
   "outputs": [],
   "source": [
    "%matplotlib inline\n",
    "import numpy as np\n",
    "import matplotlib\n",
    "import matplotlib.pyplot as plt\n",
    "matplotlib.rc('font', **{'size': 15})\n",
    "plt.rc('axes', labelsize=20)    # fontsize of the x and y labels\n",
    "from scipy.optimize import fsolve, root, curve_fit\n",
    "import csv\n",
    "import pandas as pd\n",
    "from IPython.display import Image\n",
    "import progressbar\n",
    "import os\n"
   ]
  },
  {
   "cell_type": "code",
   "execution_count": 3,
   "id": "c40c0664-0c22-4344-938f-5bfdfe9ac1ff",
   "metadata": {},
   "outputs": [],
   "source": [
    "class dotdict(dict):\n",
    "    \"\"\"dot.notation access to dictionary attributes\"\"\"\n",
    "    __getattr__ = dict.get\n",
    "    __setattr__ = dict.__setitem__\n",
    "    __delattr__ = dict.__delitem__\n",
    "\n",
    "def inch2m(inch):\n",
    "    return inch * 0.0254\n",
    "\n",
    "def m2inch(m):\n",
    "    return m/0.0254\n",
    "\n",
    "def loadcsvfile(filename, path='data/', delimiter=';'):\n",
    "    exceldata = pd.read_excel(path+filename)\n",
    "    exceldata.to_csv(path+'csv/'+filename[:-5]+'.csv', sep=delimiter, index=None, header=True)\n",
    "    csvdata = pd.read_csv(path+'csv/'+filename[:-5]+'.csv', delimiter=delimiter)\n",
    "    csvdata = csvdata.iloc[1:]\n",
    "    csvdata.index -= 1\n",
    "    for key in csvdata:\n",
    "        if key != 'experiment':\n",
    "            csvdata[key] = csvdata[key].astype('float')\n",
    "    return csvdata"
   ]
  },
  {
   "cell_type": "code",
   "execution_count": 4,
   "id": "ab64587c-f708-448d-affc-a903f978c40f",
   "metadata": {},
   "outputs": [],
   "source": [
    "IJ = loadcsvfile('IJmuiden.xlsx')"
   ]
  },
  {
   "cell_type": "code",
   "execution_count": null,
   "id": "db3a8218-38b3-44d8-994e-1f892b8b2389",
   "metadata": {},
   "outputs": [],
   "source": []
  }
 ],
 "metadata": {
  "kernelspec": {
   "display_name": "Python 3",
   "language": "python",
   "name": "python3"
  },
  "language_info": {
   "codemirror_mode": {
    "name": "ipython",
    "version": 3
   },
   "file_extension": ".py",
   "mimetype": "text/x-python",
   "name": "python",
   "nbconvert_exporter": "python",
   "pygments_lexer": "ipython3",
   "version": "3.8.5"
  }
 },
 "nbformat": 4,
 "nbformat_minor": 5
}
