{
 "cells": [
  {
   "cell_type": "markdown",
   "id": "271e34ef-6ab4-4241-a585-e229c5d69419",
   "metadata": {},
   "source": [
    "# Dit notebook gebruik ik om dingen te proberen of snel uit te rekenen"
   ]
  },
  {
   "cell_type": "code",
   "execution_count": 4,
   "id": "d17ec1fc-ec96-41db-b4c0-4e48d05ed95b",
   "metadata": {},
   "outputs": [],
   "source": [
    "import numpy as np\n",
    "import matplotlib\n",
    "import matplotlib.pyplot as plt\n",
    "matplotlib.rc('font', **{'size': 15})\n",
    "plt.rc('axes', labelsize=20)    # fontsize of the x and y labels\n",
    "import pandas as pd"
   ]
  },
  {
   "cell_type": "code",
   "execution_count": 105,
   "id": "ab64587c-f708-448d-affc-a903f978c40f",
   "metadata": {},
   "outputs": [],
   "source": [
    "x = [0,2,1,3]"
   ]
  },
  {
   "cell_type": "code",
   "execution_count": 18,
   "id": "f128ad54-24c2-4307-9201-e91c78567235",
   "metadata": {},
   "outputs": [
    {
     "data": {
      "text/plain": [
       "8.928571428571427"
      ]
     },
     "execution_count": 18,
     "metadata": {},
     "output_type": "execute_result"
    }
   ],
   "source": [
    "1/(0.1*2*0.56)"
   ]
  },
  {
   "cell_type": "code",
   "execution_count": 31,
   "id": "8b324abe-08e4-4d26-bbfa-446959fc1377",
   "metadata": {},
   "outputs": [
    {
     "data": {
      "text/plain": [
       "3.395604395604396"
      ]
     },
     "execution_count": 31,
     "metadata": {},
     "output_type": "execute_result"
    }
   ],
   "source": [
    "40/9.1-1"
   ]
  },
  {
   "cell_type": "code",
   "execution_count": null,
   "id": "db3a8218-38b3-44d8-994e-1f892b8b2389",
   "metadata": {},
   "outputs": [],
   "source": []
  }
 ],
 "metadata": {
  "kernelspec": {
   "display_name": "Python 3",
   "language": "python",
   "name": "python3"
  },
  "language_info": {
   "codemirror_mode": {
    "name": "ipython",
    "version": 3
   },
   "file_extension": ".py",
   "mimetype": "text/x-python",
   "name": "python",
   "nbconvert_exporter": "python",
   "pygments_lexer": "ipython3",
   "version": "3.8.5"
  }
 },
 "nbformat": 4,
 "nbformat_minor": 5
}
