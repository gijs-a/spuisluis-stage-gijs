{
 "cells": [
  {
   "cell_type": "markdown",
   "id": "271e34ef-6ab4-4241-a585-e229c5d69419",
   "metadata": {},
   "source": [
    "# Dit notebook gebruik ik om dingen te proberen of snel uit te rekenen"
   ]
  },
  {
   "cell_type": "code",
   "execution_count": null,
   "id": "d17ec1fc-ec96-41db-b4c0-4e48d05ed95b",
   "metadata": {},
   "outputs": [],
   "source": [
    "import numpy as np\n",
    "import matplotlib.pyplot as plt"
   ]
  },
  {
   "cell_type": "code",
   "execution_count": 69,
   "id": "62dde8e6-1e26-4d25-8424-64c8ae271735",
   "metadata": {},
   "outputs": [
    {
     "name": "stdout",
     "output_type": "stream",
     "text": [
      "a = 0.03809523809523817\n",
      "b = -0.47619047619047616\n"
     ]
    },
    {
     "data": {
      "image/png": "[encoded data removed]",
      "text/plain": [
       "<Figure size 432x288 with 1 Axes>"
      ]
     },
     "metadata": {
      "needs_background": "light"
     },
     "output_type": "display_data"
    }
   ],
   "source": [
    "x = [0.08, -2.02]\n",
    "y = [0, 1]\n",
    "[b,a] = np.polyfit(x,y,1)\n",
    "print('a =', a)\n",
    "print('b =', b)\n",
    "xfit = np.linspace(-5,5,1000)\n",
    "yfit = a + b*xfit\n",
    "\n",
    "plt.plot(x, y, 'o')\n",
    "plt.plot(xfit, yfit)\n",
    "plt.grid()"
   ]
  },
  {
   "cell_type": "code",
   "execution_count": null,
   "id": "fc20e64a-5b72-4a56-bdda-679004622215",
   "metadata": {},
   "outputs": [],
   "source": []
  },
  {
   "cell_type": "code",
   "execution_count": 78,
   "id": "190b3da5-3131-460a-960a-b8492670aa91",
   "metadata": {},
   "outputs": [
    {
     "name": "stdout",
     "output_type": "stream",
     "text": [
      "0.952\n"
     ]
    }
   ],
   "source": [
    "P = 1 #cm\n",
    "G3 = 0.08\n",
    "hL = 13.2 #cm\n",
    "d = 2*hL\n",
    "#G3y = 0.08 #at c0/c2=0\n",
    "#G3y = -2.02 #at c0/c2=1\n",
    "G3y = -1 #at c0/c2=0.51\n",
    "G3yp = G3y + G3*(d-2*P)\n",
    "print(G3yp)"
   ]
  },
  {
   "cell_type": "code",
   "execution_count": 22,
   "id": "437378ca-fd11-42df-bd25-3402b3d807ba",
   "metadata": {},
   "outputs": [
    {
     "data": {
      "text/plain": [
       "0.03809523809523817"
      ]
     },
     "execution_count": 22,
     "metadata": {},
     "output_type": "execute_result"
    }
   ],
   "source": [
    "x = [0.08, -2.02]\n",
    "y = [0, 1]\n",
    "[b,a] = np.polyfit(x,y,1)\n",
    "print('a =', a)\n",
    "print('b =', b)\n",
    "xfit = np.linspace(-5,5,1000)\n",
    "yfit = a + b*xfit\n",
    "\n",
    "plt.plot(x, y, 'o')\n",
    "plt.plot(xfit, yfit)\n",
    "plt.grid()"
   ]
  },
  {
   "cell_type": "code",
   "execution_count": null,
   "id": "56d38f99-cd51-4e88-bcf2-26a237966c64",
   "metadata": {},
   "outputs": [],
   "source": []
  }
 ],
 "metadata": {
  "kernelspec": {
   "display_name": "Python 3",
   "language": "python",
   "name": "python3"
  },
  "language_info": {
   "codemirror_mode": {
    "name": "ipython",
    "version": 3
   },
   "file_extension": ".py",
   "mimetype": "text/x-python",
   "name": "python",
   "nbconvert_exporter": "python",
   "pygments_lexer": "ipython3",
   "version": "3.8.5"
  }
 },
 "nbformat": 4,
 "nbformat_minor": 5
}
